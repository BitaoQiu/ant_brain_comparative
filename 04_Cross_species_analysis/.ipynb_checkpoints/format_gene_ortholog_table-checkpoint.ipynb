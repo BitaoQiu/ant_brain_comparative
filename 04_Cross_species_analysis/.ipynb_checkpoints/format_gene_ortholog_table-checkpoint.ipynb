{
 "cells": [
  {
   "cell_type": "code",
   "execution_count": 1,
   "metadata": {
    "collapsed": true
   },
   "outputs": [],
   "source": [
    "#1. Transcript2gene, could make a dict and add prefix.\n",
    "#2. Replace the ortholog table with ortholog gene table."
   ]
  },
  {
   "cell_type": "code",
   "execution_count": 1,
   "metadata": {
    "collapsed": true
   },
   "outputs": [],
   "source": [
    "def get_info(info):\n",
    "    info = info.split(';')\n",
    "    transcript_ID = [i for i in info if i.startswith('ID=')][0].replace('ID=','').rstrip('\\n').upper()\n",
    "    gene_ID = [i for i in info if i.startswith('Parent=')][0].replace('Parent=','').rstrip('\\n')\n",
    "    return transcript_ID,gene_ID\n",
    "\n",
    "def gff2dict(prefix, sp_dict):\n",
    "    sp_dict[prefix] = {}\n",
    "    gff_input = open(prefix+'.gff','r').readlines()\n",
    "    for line in gff_input[1:]:\n",
    "        line = line.split('\\t')\n",
    "        if line[2] == 'mRNA':\n",
    "            transcript_ID,gene_ID = get_info(line[8])\n",
    "            gene_ID = prefix + \"_\" + gene_ID\n",
    "            sp_dict[prefix][transcript_ID] = gene_ID\n",
    "    return \n",
    "\n",
    "t2g_dict = {}\n",
    "gff2dict('Aech',t2g_dict)\n",
    "gff2dict('Mpha',t2g_dict)\n",
    "gff2dict('Lhum',t2g_dict)\n",
    "gff2dict('Sinv',t2g_dict)\n",
    "gff2dict('Dqua',t2g_dict)\n",
    "gff2dict('Cbir',t2g_dict)\n",
    "gff2dict('Lnig',t2g_dict)\n",
    "\n",
    "\n"
   ]
  },
  {
   "cell_type": "code",
   "execution_count": 4,
   "metadata": {
    "collapsed": true
   },
   "outputs": [],
   "source": [
    "ortholog_table = open(r'myproject.poff','r').readlines()\n",
    "ortholog_gene_table = open(r'gene_table.poff','w')\n",
    "def output_gene(line, sp_dict):\n",
    "    Aech = sp_dict['Aech'][line[3]]\n",
    "    Cbir = sp_dict['Cbir'][line[4]]\n",
    "    Dqua = sp_dict['Dqua'][line[5]]\n",
    "    Lhum = sp_dict['Lhum'][line[6]]\n",
    "    Lnig = sp_dict['Lnig'][line[7]]\n",
    "    Mpha = sp_dict['Mpha'][line[8]]\n",
    "    Sinv = sp_dict['Sinv'][line[9]]\n",
    "    return Aech, Sinv, Mpha, Lnig, Lhum, Cbir, Dqua\n",
    "    \n",
    "for line in ortholog_table[1:]:\n",
    "    line = line.rstrip('\\n').split('\\t')\n",
    "    if line[0] == '7' and line[1] == '7':\n",
    "        print('\\t'.join(output_gene(line, t2g_dict)),file = ortholog_gene_table)\n",
    "\n",
    "ortholog_gene_table.close()\n",
    "    "
   ]
  }
 ],
 "metadata": {
  "kernelspec": {
   "display_name": "Python 3",
   "language": "python",
   "name": "python3"
  },
  "language_info": {
   "codemirror_mode": {
    "name": "ipython",
    "version": 3
   },
   "file_extension": ".py",
   "mimetype": "text/x-python",
   "name": "python",
   "nbconvert_exporter": "python",
   "pygments_lexer": "ipython3",
   "version": "3.6.3"
  }
 },
 "nbformat": 4,
 "nbformat_minor": 2
}
